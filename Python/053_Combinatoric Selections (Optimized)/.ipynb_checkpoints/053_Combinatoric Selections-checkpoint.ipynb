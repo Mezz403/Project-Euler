{
 "cells": [
  {
   "cell_type": "markdown",
   "metadata": {},
   "source": [
    "# Combinatoric Selections\n",
    "\n",
    "There are exactly ten ways of selecting three from five, 12345:\n",
    "\n",
    "123, 124, 125, 134, 135, 145, 234, 235, 245, and 345\n",
    "\n",
    "In combinatorics, we use the notation, 5C3 = 10.\n",
    "\n",
    "In general,\n",
    "\n",
    "nCr =\t\n",
    "n!\n",
    "r!(n−r)!\n",
    ",where r ≤ n, n! = n×(n−1)×...×3×2×1, and 0! = 1.\n",
    "It is not until n = 23, that a value exceeds one-million: 23C10 = 1144066.\n",
    "\n",
    "How many, not necessarily distinct, values of  nCr, for 1 ≤ n ≤ 100, are greater than one-million?"
   ]
  },
  {
   "cell_type": "code",
   "execution_count": 13,
   "metadata": {
    "collapsed": false
   },
   "outputs": [],
   "source": [
    "from math import factorial\n",
    "\n",
    "def project_euler53():\n",
    "    num_of_combos = lambda x,y: int(factorial(x) / (factorial(y) * factorial(x-y)))\n",
    "    count = 0\n",
    "    \n",
    "    for i in range(0, 101):\n",
    "        for j in range(i, -1, -1):\n",
    "            if num_of_combos(i, j) >= 1000000:\n",
    "                count += 1\n",
    "    \n",
    "    return count"
   ]
  },
  {
   "cell_type": "code",
   "execution_count": 15,
   "metadata": {
    "collapsed": false
   },
   "outputs": [
    {
     "data": {
      "text/plain": [
       "4075"
      ]
     },
     "execution_count": 15,
     "metadata": {},
     "output_type": "execute_result"
    }
   ],
   "source": [
    "project_euler53()"
   ]
  },
  {
   "cell_type": "code",
   "execution_count": 16,
   "metadata": {
    "collapsed": false
   },
   "outputs": [
    {
     "name": "stdout",
     "output_type": "stream",
     "text": [
      "100 loops, best of 3: 14.9 ms per loop\n"
     ]
    }
   ],
   "source": [
    "%timeit project_euler53()"
   ]
  }
 ],
 "metadata": {
  "kernelspec": {
   "display_name": "Python 3",
   "language": "python",
   "name": "python3"
  },
  "language_info": {
   "codemirror_mode": {
    "name": "ipython",
    "version": 3
   },
   "file_extension": ".py",
   "mimetype": "text/x-python",
   "name": "python",
   "nbconvert_exporter": "python",
   "pygments_lexer": "ipython3",
   "version": "3.5.1"
  }
 },
 "nbformat": 4,
 "nbformat_minor": 0
}
