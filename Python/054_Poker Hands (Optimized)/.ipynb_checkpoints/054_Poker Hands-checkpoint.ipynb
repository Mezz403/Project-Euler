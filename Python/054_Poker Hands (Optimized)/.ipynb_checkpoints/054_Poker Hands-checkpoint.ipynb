{
 "cells": [
  {
   "cell_type": "markdown",
   "metadata": {},
   "source": [
    "In the card game poker, a hand consists of five cards and are ranked, from lowest to highest, in the following way:\n",
    "\n",
    "High Card: Highest value card.\n",
    "One Pair: Two cards of the same value.\n",
    "Two Pairs: Two different pairs.\n",
    "Three of a Kind: Three cards of the same value.\n",
    "Straight: All cards are consecutive values.\n",
    "Flush: All cards of the same suit.\n",
    "Full House: Three of a kind and a pair.\n",
    "Four of a Kind: Four cards of the same value.\n",
    "Straight Flush: All cards are consecutive values of same suit.\n",
    "Royal Flush: Ten, Jack, Queen, King, Ace, in same suit.\n",
    "The cards are valued in the order:\n",
    "2, 3, 4, 5, 6, 7, 8, 9, 10, Jack, Queen, King, Ace.\n",
    "\n",
    "If two players have the same ranked hands then the rank made up of the highest value wins; for example, a pair of eights beats a pair of fives (see example 1 below). But if two ranks tie, for example, both players have a pair of queens, then highest cards in each hand are compared (see example 4 below); if the highest cards tie then the next highest cards are compared, and so on.\n",
    "\n",
    "Consider the following five hands dealt to two players:\n",
    "\n",
    "Hand\t \tPlayer 1\t \tPlayer 2\t \tWinner\n",
    "1\t \t5H 5C 6S 7S KD\n",
    "Pair of Fives\n",
    " \t2C 3S 8S 8D TD\n",
    "Pair of Eights\n",
    " \tPlayer 2\n",
    "2\t \t5D 8C 9S JS AC\n",
    "Highest card Ace\n",
    " \t2C 5C 7D 8S QH\n",
    "Highest card Queen\n",
    " \tPlayer 1\n",
    "3\t \t2D 9C AS AH AC\n",
    "Three Aces\n",
    " \t3D 6D 7D TD QD\n",
    "Flush with Diamonds\n",
    " \tPlayer 2\n",
    "4\t \t4D 6S 9H QH QC\n",
    "Pair of Queens\n",
    "Highest card Nine\n",
    " \t3D 6D 7H QD QS\n",
    "Pair of Queens\n",
    "Highest card Seven\n",
    " \tPlayer 1\n",
    "5\t \t2H 2D 4C 4D 4S\n",
    "Full House\n",
    "With Three Fours\n",
    " \t3C 3D 3S 9S 9D\n",
    "Full House\n",
    "with Three Threes\n",
    " \tPlayer 1\n",
    "\n",
    "The file, poker.txt, contains one-thousand random hands dealt to two players. Each line of the file contains ten cards (separated by a single space): the first five are Player 1's cards and the last five are Player 2's cards. You can assume that all hands are valid (no invalid characters or repeated cards), each player's hand is in no specific order, and in each hand there is a clear winner.\n",
    "\n",
    "How many hands does Player 1 win?"
   ]
  },
  {
   "cell_type": "code",
   "execution_count": 261,
   "metadata": {
    "collapsed": true
   },
   "outputs": [],
   "source": [
    "import collections\n",
    "from operator import itemgetter\n",
    "from itertools import groupby"
   ]
  },
  {
   "cell_type": "code",
   "execution_count": 262,
   "metadata": {
    "collapsed": true
   },
   "outputs": [],
   "source": [
    "def convert_facecards(value):\n",
    "# Converts Tens (T), Jacks (J), Queens (Q), Kings (K), and Aces (A) to their corresponding numerical value.\n",
    "\n",
    "    i = 0\n",
    "    for num in value:\n",
    "        if value[i] == 'T':\n",
    "            value[i] = '10'\n",
    "        elif value[i] == 'J':\n",
    "            value[i] = '11'\n",
    "        elif value[i] == 'Q':\n",
    "            value[i] = '12'\n",
    "        elif value[i] == 'K':\n",
    "            value[i] = '13'\n",
    "        elif value[i] == 'A':\n",
    "            value[i] = '14'\n",
    "        i += 1\n",
    "        \n",
    "    return value"
   ]
  },
  {
   "cell_type": "code",
   "execution_count": 328,
   "metadata": {
    "collapsed": false
   },
   "outputs": [],
   "source": [
    "def is_royalflush(value, suit):\n",
    "# Determines if hand is a royal flush.\n",
    "# Royal Flush: Ten, Jack, Queen, King, Ace, in same suit.\n",
    "\n",
    "    compare = lambda x, y: collections.Counter(x) == collections.Counter(y)\n",
    "    royalflush = ['10','11','12','13','14'] # ['T', 'J', 'Q', 'K', 'A']\n",
    "\n",
    "    if suit.count(suit[0]) == len(suit) and compare(value, royalflush):\n",
    "        return True\n",
    "    else:\n",
    "        return False"
   ]
  },
  {
   "cell_type": "code",
   "execution_count": 329,
   "metadata": {
    "collapsed": false
   },
   "outputs": [],
   "source": [
    "def is_straightflush(value, suit):\n",
    "# Determines if hand is a straight flush.\n",
    "# Straight Flush: All cards are consecutive values of same suit.\n",
    "\n",
    "    compare = lambda x, y: collections.Counter(x) == collections.Counter(y)\n",
    "        \n",
    "    if suit.count(suit[0]) == len(suit):\n",
    "        value = sorted(map(int, value))\n",
    "        straight = [value[0]]\n",
    "        \n",
    "        for i in range(0,4):\n",
    "            straight.append(straight[i]+1)\n",
    "            \n",
    "        if compare(value, straight):\n",
    "            return True\n",
    "        else:\n",
    "            return False\n",
    "    \n",
    "    else:\n",
    "        return False"
   ]
  },
  {
   "cell_type": "code",
   "execution_count": 333,
   "metadata": {
    "collapsed": true
   },
   "outputs": [],
   "source": [
    "def is_fourofakind(value):\n",
    "# Determines if hand is a Four of a Kind.\n",
    "# Four of a Kind: Four cards have the same value.\n",
    "\n",
    "    count = collections.Counter(value)\n",
    "    \n",
    "    for letter, count in count.most_common(1):\n",
    "        if count >= 4:\n",
    "            remainder = list(filter(lambda a: a != letter, value))\n",
    "            return True, remainder, letter\n",
    "        else:\n",
    "            return False"
   ]
  },
  {
   "cell_type": "code",
   "execution_count": 335,
   "metadata": {
    "collapsed": false
   },
   "outputs": [],
   "source": [
    "def is_fullhouse(value):\n",
    "# Determines if hand is a Full House.\n",
    "# Full House: Three of a kind and a pair.\n",
    "    \n",
    "    if is_onepair(value) and is_threeofakind(value):\n",
    "        return True\n",
    "    else:\n",
    "        return False"
   ]
  },
  {
   "cell_type": "code",
   "execution_count": 349,
   "metadata": {
    "collapsed": true
   },
   "outputs": [],
   "source": [
    "def is_flush(suit):\n",
    "# Determines if hand is a Flush.\n",
    "# Flush: All cards of the same suit.\n",
    "\n",
    "    if suit.count(suit[0]) == len(suit):\n",
    "        return True\n",
    "    else:\n",
    "        return False"
   ]
  },
  {
   "cell_type": "code",
   "execution_count": 352,
   "metadata": {
    "collapsed": true
   },
   "outputs": [],
   "source": [
    "def is_straight(value):\n",
    "# Determines if hand is a Straight.\n",
    "# Straight: All cards are consecutive values.\n",
    "    \n",
    "    compare = lambda x, y: collections.Counter(x) == collections.Counter(y)\n",
    "    value = sorted(map(int, value))\n",
    "    straight = [value[0]]\n",
    "\n",
    "    for i in range(0,4):\n",
    "        straight.append(straight[i]+1)\n",
    "\n",
    "    if compare(value, straight):\n",
    "        return True\n",
    "    else:\n",
    "        return False"
   ]
  },
  {
   "cell_type": "code",
   "execution_count": 309,
   "metadata": {
    "collapsed": true
   },
   "outputs": [],
   "source": [
    "def is_threeofakind(value):\n",
    "# Determines if hand is a Three of a Kind\n",
    "# Three of a Kind: Three cards of the same value.\n",
    "    \n",
    "    count = collections.Counter(value)\n",
    "    \n",
    "    for letter, count in count.most_common(1):\n",
    "        if count == 3:\n",
    "            remainder = list(filter(lambda a: a != letter, value))\n",
    "            return True, remainder, letter\n",
    "        else:\n",
    "            return False"
   ]
  },
  {
   "cell_type": "code",
   "execution_count": 362,
   "metadata": {
    "collapsed": true
   },
   "outputs": [],
   "source": [
    "def is_twopair(value):\n",
    "# Determines if hand is a Two Pair.\n",
    "# Two Pair: Two different pairs.\n",
    "    \n",
    "    count = collections.Counter(value)\n",
    "    pair = 0\n",
    "    pair_values = []\n",
    "    \n",
    "    for letter, count in count.most_common(2):\n",
    "        if count == 2:\n",
    "            pair += 1\n",
    "            pair_values.append(letter)\n",
    "\n",
    "    if pair == 2:\n",
    "        return True\n",
    "    else:\n",
    "        return False"
   ]
  },
  {
   "cell_type": "code",
   "execution_count": 355,
   "metadata": {
    "collapsed": true
   },
   "outputs": [],
   "source": [
    "def is_onepair(value):\n",
    "# Determines if hand is a One Pair.\n",
    "# One Pair: Two cards of the same value.\n",
    "    \n",
    "    count = collections.Counter(value)\n",
    "    \n",
    "    for letter, count in count.most_common(2):\n",
    "        if count == 2:\n",
    "            remainder = list(filter(lambda a: a != letter, value))\n",
    "            return True, remainder, letter\n",
    "    \n",
    "    return False"
   ]
  },
  {
   "cell_type": "code",
   "execution_count": 321,
   "metadata": {
    "collapsed": true
   },
   "outputs": [],
   "source": [
    "def is_highcard(value1,value2):\n",
    "# Determines the high card in hand.\n",
    "# High Card: Highest value card.\n",
    "\n",
    "    if type(value1) == 'string':\n",
    "        if int(value1) > int(value2):\n",
    "            return True\n",
    "        else:\n",
    "            return False\n",
    "    else:\n",
    "        res1 = sorted(list(map(int, value1)), reverse = True)\n",
    "        res2 = sorted(list(map(int, value2)), reverse = True)\n",
    "\n",
    "        for i in range(0,len(value1) - 1):\n",
    "            if res1[i] < res2[i]:\n",
    "                return False\n",
    "            elif res1[i] > res2[i]:\n",
    "                return True"
   ]
  },
  {
   "cell_type": "code",
   "execution_count": 359,
   "metadata": {
    "collapsed": true
   },
   "outputs": [],
   "source": [
    "def result(value, suit):\n",
    "    rank = 0\n",
    "    card = ''\n",
    "    remainder = []\n",
    "\n",
    "    if is_royalflush(value, suit):\n",
    "        rank = 10\n",
    "    elif is_straightflush(value, suit):\n",
    "        rank = 9\n",
    "    elif is_fourofakind(value):\n",
    "        card = is_fourofakind(value)[2]\n",
    "        remainder = is_fourofakind(value)[1]\n",
    "        rank = 8\n",
    "    elif is_fullhouse(value):\n",
    "        rank = 7\n",
    "    elif is_flush(value):\n",
    "        rank = 6\n",
    "    elif is_straight(value):\n",
    "        rank = 5\n",
    "    elif is_threeofakind(value):\n",
    "        card = is_threeofakind(value)[2]\n",
    "        remainder = is_threeofakind(value)[1]\n",
    "        rank = 4\n",
    "    elif is_twopair(value):\n",
    "        rank = 3\n",
    "    elif is_onepair(value):\n",
    "        card = is_onepair(value)[2]\n",
    "        remainder = is_onepair(value)[1]\n",
    "        rank = 2\n",
    "    else:\n",
    "        rank = 1\n",
    "        \n",
    "    return rank, remainder, card"
   ]
  },
  {
   "cell_type": "code",
   "execution_count": 357,
   "metadata": {
    "collapsed": false
   },
   "outputs": [],
   "source": [
    "def project_euler54():\n",
    "    pokerHands = \"C:\\\\Users\\\\Alexis\\\\Documents\\\\GitHub\\\\Project-Euler\\\\Python\\\\054_Poker Hands\\\\p054_poker.txt\"\n",
    "    wins = 0\n",
    "    \n",
    "    with open(pokerHands) as hands:\n",
    "        for hand in hands:\n",
    "            player1 = []\n",
    "            player2 = []\n",
    "            value1 = []\n",
    "            suit1 = []\n",
    "            value2 = []\n",
    "            suit2 = []\n",
    "            \n",
    "            hand = hand.replace('\\n', '')\n",
    "            hand = hand.split(' ')\n",
    "            \n",
    "            for i in range(0,5):\n",
    "                player1.append(hand[i])\n",
    "            for i in range(5,10):\n",
    "                player2.append(hand[i])\n",
    "    \n",
    "            for card in player1:\n",
    "                value1.append(str(card[:-1]))\n",
    "                suit1.append(card[-1:])\n",
    "            for card in player2:\n",
    "                value2.append(str(card[:-1]))\n",
    "                suit2.append(card[-1:])\n",
    "            \n",
    "            value1 = convert_facecards(value1)\n",
    "            value2 = convert_facecards(value2)\n",
    "            \n",
    "            player1_result = result(value1, suit1)\n",
    "            player2_result = result(value2, suit2)\n",
    "            \n",
    "            # Scenarios where Player 1 wins:\n",
    "                # Rank is higher\n",
    "                # If both hands have rank 1, has the highest card\n",
    "                # If both hands have the same rank, has the highest card\n",
    "                # If both hands have the same rank, the same winning hand, has the highest card\n",
    "            \n",
    "            if player1_result[0] == 1 and player2_result[0] == 1:\n",
    "                if is_highcard(value1, value2):\n",
    "                    wins += 1\n",
    "                next\n",
    "            elif player1_result[0] > player2_result[0]:\n",
    "                wins += 1\n",
    "                next\n",
    "            elif player1_result[0] == player2_result[0]:\n",
    "                if int(player1_result[2]) > int(player2_result[2]):\n",
    "                    wins += 1\n",
    "                    next\n",
    "                elif player1_result[2] == player2_result[2]:\n",
    "                    if is_highcard(player1_result[1], player2_result[1]):\n",
    "                        wins += 1\n",
    "                \n",
    "    return wins"
   ]
  },
  {
   "cell_type": "code",
   "execution_count": 364,
   "metadata": {
    "collapsed": false
   },
   "outputs": [
    {
     "name": "stdout",
     "output_type": "stream",
     "text": [
      "[2, 4, 6, 8, 13] [2, 3, 4, 5, 6]\n",
      "[2, 4, 5, 7, 9] [2, 3, 4, 5, 6]\n"
     ]
    },
    {
     "data": {
      "text/plain": [
       "376"
      ]
     },
     "execution_count": 364,
     "metadata": {},
     "output_type": "execute_result"
    }
   ],
   "source": [
    "project_euler54()"
   ]
  },
  {
   "cell_type": "code",
   "execution_count": 365,
   "metadata": {
    "collapsed": false
   },
   "outputs": [
    {
     "name": "stdout",
     "output_type": "stream",
     "text": [
      "[2, 4, 6, 8, 13] [2, 3, 4, 5, 6]\n",
      "[2, 4, 5, 7, 9] [2, 3, 4, 5, 6]\n",
      "[2, 4, 6, 8, 13] [2, 3, 4, 5, 6]\n",
      "[2, 4, 5, 7, 9] [2, 3, 4, 5, 6]\n",
      "[2, 4, 6, 8, 13] [2, 3, 4, 5, 6]\n",
      "[2, 4, 5, 7, 9] [2, 3, 4, 5, 6]\n",
      "[2, 4, 6, 8, 13] [2, 3, 4, 5, 6]\n",
      "[2, 4, 5, 7, 9] [2, 3, 4, 5, 6]\n",
      "1 loops, best of 3: 246 ms per loop\n"
     ]
    }
   ],
   "source": [
    "%timeit(project_euler54())"
   ]
  }
 ],
 "metadata": {
  "kernelspec": {
   "display_name": "Python 3",
   "language": "python",
   "name": "python3"
  },
  "language_info": {
   "codemirror_mode": {
    "name": "ipython",
    "version": 3
   },
   "file_extension": ".py",
   "mimetype": "text/x-python",
   "name": "python",
   "nbconvert_exporter": "python",
   "pygments_lexer": "ipython3",
   "version": "3.5.1"
  }
 },
 "nbformat": 4,
 "nbformat_minor": 0
}
