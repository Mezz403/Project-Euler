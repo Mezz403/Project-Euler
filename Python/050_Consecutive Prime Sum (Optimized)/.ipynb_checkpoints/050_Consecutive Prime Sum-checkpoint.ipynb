{
 "cells": [
  {
   "cell_type": "markdown",
   "metadata": {},
   "source": [
    "# Consecutive Prime Sum\n",
    "\n",
    "The prime 41, can be written as the sum of six consecutive primes:\n",
    "\n",
    "41 = 2 + 3 + 5 + 7 + 11 + 13\n",
    "\n",
    "This is the longest sum of consecutive primes that adds to a prime below one-hundred.\n",
    "\n",
    "The longest sum of consecutive primes below one-thousand that adds to a prime, contains 21 terms, and is equal to 953.\n",
    "\n",
    "Which prime, below one-million, can be written as the sum of the most consecutive primes?"
   ]
  },
  {
   "cell_type": "code",
   "execution_count": 24,
   "metadata": {
    "collapsed": true
   },
   "outputs": [],
   "source": [
    "def prime_generator():\n",
    "    D = {}\n",
    "    q = 2\n",
    "    \n",
    "    while True:\n",
    "        if q not in D:\n",
    "            yield q\n",
    "            D[q * q] = [q]\n",
    "        else:\n",
    "            for p in D[q]:\n",
    "                D.setdefault(p + q, []).append(p)\n",
    "            del D[q]\n",
    "        \n",
    "        q += 1"
   ]
  },
  {
   "cell_type": "code",
   "execution_count": 56,
   "metadata": {
    "collapsed": true
   },
   "outputs": [],
   "source": [
    "def primes_below_n(n):\n",
    "    primes = []\n",
    "    prime = 0\n",
    "    i = prime_generator()\n",
    "\n",
    "    while prime < n:\n",
    "        j = next(i)\n",
    "        if j > n:\n",
    "            break\n",
    "        else:\n",
    "            primes.append(j)  \n",
    "        \n",
    "    return primes"
   ]
  },
  {
   "cell_type": "code",
   "execution_count": 135,
   "metadata": {
    "collapsed": false
   },
   "outputs": [],
   "source": [
    "def project_euler50(limit):\n",
    "    f = lambda x,y: x + y\n",
    "    p = primes_below_n(limit)\n",
    "    numPrimes = 0\n",
    "    result = 0\n",
    "    \n",
    "    primeSum = [0]\n",
    "    \n",
    "    for i in range(0, len(p) - 1):\n",
    "        primeSum.append(primeSum[i] + p[i])\n",
    "    \n",
    "    for i in range(0, len(primeSum)):\n",
    "        for j in range (i - (numPrimes + 1), -1, -1):\n",
    "            if primeSum[i] - primeSum[j] > limit:\n",
    "                break\n",
    "            try:\n",
    "                if p.index(primeSum[i] - primeSum[j]) >= 0:\n",
    "                    numPrimes = i - j\n",
    "                    result = primeSum[i] - primeSum[j]\n",
    "            except ValueError:\n",
    "                next\n",
    "        \n",
    "    return numPrimes, result"
   ]
  },
  {
   "cell_type": "code",
   "execution_count": 137,
   "metadata": {
    "collapsed": false
   },
   "outputs": [
    {
     "data": {
      "text/plain": [
       "(543, 997651)"
      ]
     },
     "execution_count": 137,
     "metadata": {},
     "output_type": "execute_result"
    }
   ],
   "source": [
    "project_euler50(1000000)"
   ]
  },
  {
   "cell_type": "code",
   "execution_count": 138,
   "metadata": {
    "collapsed": false
   },
   "outputs": [
    {
     "name": "stdout",
     "output_type": "stream",
     "text": [
      "1 loops, best of 3: 6.78 s per loop\n"
     ]
    }
   ],
   "source": [
    "%timeit project_euler50(1000000)"
   ]
  }
 ],
 "metadata": {
  "kernelspec": {
   "display_name": "Python 3",
   "language": "python",
   "name": "python3"
  },
  "language_info": {
   "codemirror_mode": {
    "name": "ipython",
    "version": 3
   },
   "file_extension": ".py",
   "mimetype": "text/x-python",
   "name": "python",
   "nbconvert_exporter": "python",
   "pygments_lexer": "ipython3",
   "version": "3.5.1"
  }
 },
 "nbformat": 4,
 "nbformat_minor": 0
}
